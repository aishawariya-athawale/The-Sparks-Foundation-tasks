{
 "cells": [
  {
   "cell_type": "markdown",
   "metadata": {},
   "source": [
    "#####  This is a regression task where we will predict the marks a student scores based on number of hours a student studies. Here we have to predict how much a student will score if he/she studies for 9.25 hours"
   ]
  },
  {
   "cell_type": "code",
   "execution_count": 1,
   "metadata": {},
   "outputs": [],
   "source": [
    "# importing important libraries\n",
    "\n",
    "from sklearn.linear_model import LinearRegression\n",
    "import pandas as pd\n",
    "import matplotlib.pyplot as plt\n",
    "from sklearn.model_selection import train_test_split"
   ]
  },
  {
   "cell_type": "code",
   "execution_count": 2,
   "metadata": {},
   "outputs": [
    {
     "data": {
      "text/plain": [
       "(   Hours  Scores\n",
       " 0    2.5      21\n",
       " 1    5.1      47\n",
       " 2    3.2      27,\n",
       " (25, 2))"
      ]
     },
     "execution_count": 2,
     "metadata": {},
     "output_type": "execute_result"
    }
   ],
   "source": [
    "# loading data\n",
    "\n",
    "df = pd.read_csv(\"student_scores.csv\")\n",
    "df.head(3), df.shape"
   ]
  },
  {
   "cell_type": "code",
   "execution_count": 3,
   "metadata": {},
   "outputs": [
    {
     "data": {
      "image/png": "[encoded data removed]",
      "text/plain": [
       "<Figure size 432x288 with 1 Axes>"
      ]
     },
     "metadata": {
      "needs_background": "light"
     },
     "output_type": "display_data"
    }
   ],
   "source": [
    "# plotting the data to study the relationship between variables\n",
    "\n",
    "plt.scatter(df[\"Hours\"], df[\"Scores\"])\n",
    "plt.title(\"Scatter plot for the data\")\n",
    "plt.xlabel(\"Study Hours\")\n",
    "plt.ylabel(\"Scores\")\n",
    "plt.show()"
   ]
  },
  {
   "cell_type": "code",
   "execution_count": 4,
   "metadata": {},
   "outputs": [],
   "source": [
    "X = pd.DataFrame(df[\"Hours\"])\n",
    "y = pd.DataFrame(df[\"Scores\"])"
   ]
  },
  {
   "cell_type": "code",
   "execution_count": 5,
   "metadata": {},
   "outputs": [
    {
     "name": "stdout",
     "output_type": "stream",
     "text": [
      "Slope a: 9.7758 \n",
      "Intercept b: 2.4837\n"
     ]
    }
   ],
   "source": [
    "linear_regression = LinearRegression().fit(X, y) # fitting the model on the data\n",
    "\n",
    "a = linear_regression.coef_                      # slope of the data\n",
    "b = linear_regression.intercept_                 # intercept of the data\n",
    "print(\"Slope a:\", \"%.4f\"%a, \"\\nIntercept b:\",\"%.4f\"%b)"
   ]
  },
  {
   "cell_type": "markdown",
   "metadata": {},
   "source": [
    "######  Predicting score using the model"
   ]
  },
  {
   "cell_type": "code",
   "execution_count": 6,
   "metadata": {},
   "outputs": [
    {
     "name": "stdout",
     "output_type": "stream",
     "text": [
      "Score: 92.9099\n"
     ]
    }
   ],
   "source": [
    "hours = 9.25\n",
    "pre = linear_regression.predict([[hours]])\n",
    "print(\"Score:\",\"%.4f\"%pre[0])"
   ]
  },
  {
   "cell_type": "markdown",
   "metadata": {},
   "source": [
    "###### Predicting score manually"
   ]
  },
  {
   "cell_type": "code",
   "execution_count": 7,
   "metadata": {},
   "outputs": [
    {
     "name": "stdout",
     "output_type": "stream",
     "text": [
      "Score: 92.9099\n"
     ]
    }
   ],
   "source": [
    "prediction1 = a*hours + b          # prediction for 9.25 hours of study per day\n",
    "print(\"Score:\",\"%.4f\"%prediction1)"
   ]
  },
  {
   "cell_type": "markdown",
   "metadata": {},
   "source": [
    "######  Plotting the regression line on the data"
   ]
  },
  {
   "cell_type": "code",
   "execution_count": 8,
   "metadata": {},
   "outputs": [
    {
     "data": {
      "image/png": "[encoded data removed]",
      "text/plain": [
       "<Figure size 432x288 with 1 Axes>"
      ]
     },
     "metadata": {
      "needs_background": "light"
     },
     "output_type": "display_data"
    }
   ],
   "source": [
    "line = a*X+b\n",
    "plt.scatter(df[\"Hours\"], df[\"Scores\"], c = \"green\", marker = '8', linewidths = 3)\n",
    "plt.title(\"Scatter plot for the data\")\n",
    "plt.xlabel(\"Study Hours\")\n",
    "plt.ylabel(\"Scores\")\n",
    "plt.plot(X, line, c = \"red\")\n",
    "plt.show()"
   ]
  },
  {
   "cell_type": "code",
   "execution_count": null,
   "metadata": {},
   "outputs": [],
   "source": []
  }
 ],
 "metadata": {
  "kernelspec": {
   "display_name": "Python 3",
   "language": "python",
   "name": "python3"
  },
  "language_info": {
   "codemirror_mode": {
    "name": "ipython",
    "version": 3
   },
   "file_extension": ".py",
   "mimetype": "text/x-python",
   "name": "python",
   "nbconvert_exporter": "python",
   "pygments_lexer": "ipython3",
   "version": "3.8.1"
  }
 },
 "nbformat": 4,
 "nbformat_minor": 4
}
